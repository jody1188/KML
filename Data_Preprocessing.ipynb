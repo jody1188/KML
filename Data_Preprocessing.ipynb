{
 "cells": [
  {
   "cell_type": "markdown",
   "id": "4b5874bf",
   "metadata": {
    "id": "fhDoycu0tkhs"
   },
   "source": [
    "## Import Module"
   ]
  },
  {
   "cell_type": "code",
   "execution_count": 1,
   "id": "ca5ceedd",
   "metadata": {
    "colab": {
     "base_uri": "https://localhost:8080/"
    },
    "id": "0a775edf",
    "outputId": "709aad9d-921a-48cf-f6d2-31fa7c0e87a6"
   },
   "outputs": [
    {
     "name": "stdout",
     "output_type": "stream",
     "text": [
      "Requirement already satisfied: klib in c:\\users\\user\\anaconda3\\lib\\site-packages (0.2.1)\n",
      "Requirement already satisfied: matplotlib>=3.0.3 in c:\\users\\user\\anaconda3\\lib\\site-packages (from klib) (3.3.2)\n",
      "Requirement already satisfied: scikit-learn>=0.23.1 in c:\\users\\user\\anaconda3\\lib\\site-packages (from klib) (0.23.2)\n",
      "Requirement already satisfied: numpy>=1.16.3 in c:\\users\\user\\anaconda3\\lib\\site-packages (from klib) (1.19.2)\n",
      "Requirement already satisfied: pandas>=1.1.2 in c:\\users\\user\\anaconda3\\lib\\site-packages (from klib) (1.1.3)\n",
      "Requirement already satisfied: scipy>=1.1.0 in c:\\users\\user\\anaconda3\\lib\\site-packages (from klib) (1.5.2)\n",
      "Requirement already satisfied: seaborn>=0.11.1 in c:\\users\\user\\anaconda3\\lib\\site-packages (from klib) (0.11.2)\n",
      "Requirement already satisfied: kiwisolver>=1.0.1 in c:\\users\\user\\anaconda3\\lib\\site-packages (from matplotlib>=3.0.3->klib) (1.3.0)\n",
      "Requirement already satisfied: certifi>=2020.06.20 in c:\\users\\user\\anaconda3\\lib\\site-packages (from matplotlib>=3.0.3->klib) (2020.6.20)\n",
      "Requirement already satisfied: pillow>=6.2.0 in c:\\users\\user\\anaconda3\\lib\\site-packages (from matplotlib>=3.0.3->klib) (8.0.1)\n",
      "Requirement already satisfied: python-dateutil>=2.1 in c:\\users\\user\\anaconda3\\lib\\site-packages (from matplotlib>=3.0.3->klib) (2.8.1)\n",
      "Requirement already satisfied: cycler>=0.10 in c:\\users\\user\\anaconda3\\lib\\site-packages (from matplotlib>=3.0.3->klib) (0.10.0)\n",
      "Requirement already satisfied: pyparsing!=2.0.4,!=2.1.2,!=2.1.6,>=2.0.3 in c:\\users\\user\\anaconda3\\lib\\site-packages (from matplotlib>=3.0.3->klib) (2.4.7)\n",
      "Requirement already satisfied: joblib>=0.11 in c:\\users\\user\\anaconda3\\lib\\site-packages (from scikit-learn>=0.23.1->klib) (0.17.0)\n",
      "Requirement already satisfied: threadpoolctl>=2.0.0 in c:\\users\\user\\anaconda3\\lib\\site-packages (from scikit-learn>=0.23.1->klib) (2.1.0)\n",
      "Requirement already satisfied: pytz>=2017.2 in c:\\users\\user\\anaconda3\\lib\\site-packages (from pandas>=1.1.2->klib) (2020.1)\n",
      "Requirement already satisfied: six>=1.5 in c:\\users\\user\\anaconda3\\lib\\site-packages (from python-dateutil>=2.1->matplotlib>=3.0.3->klib) (1.15.0)\n",
      "Collecting optuna\n",
      "  Using cached optuna-2.10.0-py3-none-any.whl (308 kB)\n",
      "Collecting alembic\n",
      "  Downloading alembic-1.7.5-py3-none-any.whl (209 kB)\n",
      "Requirement already satisfied: sqlalchemy>=1.1.0 in c:\\users\\user\\anaconda3\\lib\\site-packages (from optuna) (1.3.20)\n",
      "Collecting cmaes>=0.8.2\n",
      "  Using cached cmaes-0.8.2-py3-none-any.whl (15 kB)\n",
      "Requirement already satisfied: packaging>=20.0 in c:\\users\\user\\anaconda3\\lib\\site-packages (from optuna) (21.3)\n",
      "Requirement already satisfied: scipy!=1.4.0 in c:\\users\\user\\anaconda3\\lib\\site-packages (from optuna) (1.5.2)\n",
      "Collecting colorlog\n",
      "  Downloading colorlog-6.6.0-py2.py3-none-any.whl (11 kB)\n",
      "Collecting cliff\n",
      "  Downloading cliff-3.10.0-py3-none-any.whl (80 kB)\n",
      "Requirement already satisfied: numpy in c:\\users\\user\\anaconda3\\lib\\site-packages (from optuna) (1.19.2)\n",
      "Requirement already satisfied: tqdm in c:\\users\\user\\anaconda3\\lib\\site-packages (from optuna) (4.50.2)\n",
      "Requirement already satisfied: PyYAML in c:\\users\\user\\anaconda3\\lib\\site-packages (from optuna) (5.3.1)\n",
      "Collecting Mako\n",
      "  Downloading Mako-1.1.6-py2.py3-none-any.whl (75 kB)\n",
      "Collecting importlib-resources; python_version < \"3.9\"\n",
      "  Downloading importlib_resources-5.4.0-py3-none-any.whl (28 kB)\n",
      "Requirement already satisfied: importlib-metadata; python_version < \"3.9\" in c:\\users\\user\\anaconda3\\lib\\site-packages (from alembic->optuna) (4.8.2)\n",
      "Requirement already satisfied: pyparsing!=3.0.5,>=2.0.2 in c:\\users\\user\\anaconda3\\lib\\site-packages (from packaging>=20.0->optuna) (2.4.7)\n",
      "Requirement already satisfied: colorama; sys_platform == \"win32\" in c:\\users\\user\\anaconda3\\lib\\site-packages (from colorlog->optuna) (0.4.4)\n",
      "Collecting PrettyTable>=0.7.2\n",
      "  Downloading prettytable-2.4.0-py3-none-any.whl (24 kB)\n",
      "Collecting autopage>=0.4.0\n",
      "  Using cached autopage-0.4.0-py3-none-any.whl (20 kB)\n",
      "Collecting pbr!=2.1.0,>=2.0.0\n",
      "  Downloading pbr-5.8.0-py2.py3-none-any.whl (112 kB)\n",
      "Collecting stevedore>=2.0.1\n",
      "  Downloading stevedore-3.5.0-py3-none-any.whl (49 kB)\n",
      "Collecting cmd2>=1.0.0\n",
      "  Downloading cmd2-2.3.3-py3-none-any.whl (149 kB)\n",
      "Requirement already satisfied: MarkupSafe>=0.9.2 in c:\\users\\user\\anaconda3\\lib\\site-packages (from Mako->alembic->optuna) (1.1.1)\n",
      "Requirement already satisfied: zipp>=3.1.0; python_version < \"3.10\" in c:\\users\\user\\anaconda3\\lib\\site-packages (from importlib-resources; python_version < \"3.9\"->alembic->optuna) (3.4.0)\n",
      "Requirement already satisfied: wcwidth in c:\\users\\user\\anaconda3\\lib\\site-packages (from PrettyTable>=0.7.2->cliff->optuna) (0.2.5)\n",
      "Collecting pyperclip>=1.6\n",
      "  Using cached pyperclip-1.8.2.tar.gz (20 kB)\n",
      "Collecting pyreadline3; sys_platform == \"win32\" and python_version >= \"3.8\"\n",
      "  Using cached pyreadline3-3.3-py3-none-any.whl (95 kB)\n",
      "Requirement already satisfied: attrs>=16.3.0 in c:\\users\\user\\anaconda3\\lib\\site-packages (from cmd2>=1.0.0->cliff->optuna) (20.3.0)\n",
      "Building wheels for collected packages: pyperclip\n",
      "  Building wheel for pyperclip (setup.py): started\n",
      "  Building wheel for pyperclip (setup.py): finished with status 'done'\n",
      "  Created wheel for pyperclip: filename=pyperclip-1.8.2-py3-none-any.whl size=11112 sha256=b054c077f2639833f4b473b0ca3e770564acbe3ef7f3e3547a1a23450c712683\n",
      "  Stored in directory: c:\\users\\user\\appdata\\local\\pip\\cache\\wheels\\7f\\1a\\65\\84ff8c386bec21fca6d220ea1f5498a0367883a78dd5ba6122\n",
      "Successfully built pyperclip\n",
      "Installing collected packages: Mako, importlib-resources, alembic, cmaes, colorlog, PrettyTable, autopage, pbr, stevedore, pyperclip, pyreadline3, cmd2, cliff, optuna\n",
      "Successfully installed Mako-1.1.6 PrettyTable-2.4.0 alembic-1.7.5 autopage-0.4.0 cliff-3.10.0 cmaes-0.8.2 cmd2-2.3.3 colorlog-6.6.0 importlib-resources-5.4.0 optuna-2.10.0 pbr-5.8.0 pyperclip-1.8.2 pyreadline3-3.3 stevedore-3.5.0\n",
      "Collecting bayesian-optimization\n",
      "  Using cached bayesian-optimization-1.2.0.tar.gz (14 kB)\n",
      "Requirement already satisfied: numpy>=1.9.0 in c:\\users\\user\\anaconda3\\lib\\site-packages (from bayesian-optimization) (1.19.2)\n",
      "Requirement already satisfied: scipy>=0.14.0 in c:\\users\\user\\anaconda3\\lib\\site-packages (from bayesian-optimization) (1.5.2)\n",
      "Requirement already satisfied: scikit-learn>=0.18.0 in c:\\users\\user\\anaconda3\\lib\\site-packages (from bayesian-optimization) (0.23.2)\n",
      "Requirement already satisfied: joblib>=0.11 in c:\\users\\user\\anaconda3\\lib\\site-packages (from scikit-learn>=0.18.0->bayesian-optimization) (0.17.0)\n",
      "Requirement already satisfied: threadpoolctl>=2.0.0 in c:\\users\\user\\anaconda3\\lib\\site-packages (from scikit-learn>=0.18.0->bayesian-optimization) (2.1.0)\n",
      "Building wheels for collected packages: bayesian-optimization\n",
      "  Building wheel for bayesian-optimization (setup.py): started\n",
      "  Building wheel for bayesian-optimization (setup.py): finished with status 'done'\n",
      "  Created wheel for bayesian-optimization: filename=bayesian_optimization-1.2.0-py3-none-any.whl size=11690 sha256=8fcf5286cbe98008b048af24499e0ed7f563049c03aa0092ff37a63fd8b2c1df\n",
      "  Stored in directory: c:\\users\\user\\appdata\\local\\pip\\cache\\wheels\\37\\fa\\19\\f93e793d3944567a60b3ab93b446cf7370cc82c60c1d1c613f\n",
      "Successfully built bayesian-optimization\n",
      "Installing collected packages: bayesian-optimization\n",
      "Successfully installed bayesian-optimization-1.2.0\n",
      "Collecting catboost\n",
      "  Downloading catboost-1.0.3-cp38-none-win_amd64.whl (77.4 MB)\n",
      "Requirement already satisfied: matplotlib in c:\\users\\user\\anaconda3\\lib\\site-packages (from catboost) (3.3.2)\n",
      "Requirement already satisfied: plotly in c:\\users\\user\\anaconda3\\lib\\site-packages (from catboost) (4.14.3)\n",
      "Requirement already satisfied: numpy>=1.16.0 in c:\\users\\user\\anaconda3\\lib\\site-packages (from catboost) (1.19.2)\n",
      "Requirement already satisfied: pandas>=0.24.0 in c:\\users\\user\\anaconda3\\lib\\site-packages (from catboost) (1.1.3)\n",
      "Requirement already satisfied: scipy in c:\\users\\user\\anaconda3\\lib\\site-packages (from catboost) (1.5.2)\n",
      "Collecting graphviz\n",
      "  Downloading graphviz-0.19.1-py3-none-any.whl (46 kB)\n",
      "Requirement already satisfied: six in c:\\users\\user\\anaconda3\\lib\\site-packages (from catboost) (1.15.0)\n",
      "Requirement already satisfied: certifi>=2020.06.20 in c:\\users\\user\\anaconda3\\lib\\site-packages (from matplotlib->catboost) (2020.6.20)\n",
      "Requirement already satisfied: pillow>=6.2.0 in c:\\users\\user\\anaconda3\\lib\\site-packages (from matplotlib->catboost) (8.0.1)\n",
      "Requirement already satisfied: python-dateutil>=2.1 in c:\\users\\user\\anaconda3\\lib\\site-packages (from matplotlib->catboost) (2.8.1)\n",
      "Requirement already satisfied: cycler>=0.10 in c:\\users\\user\\anaconda3\\lib\\site-packages (from matplotlib->catboost) (0.10.0)\n",
      "Requirement already satisfied: kiwisolver>=1.0.1 in c:\\users\\user\\anaconda3\\lib\\site-packages (from matplotlib->catboost) (1.3.0)\n",
      "Requirement already satisfied: pyparsing!=2.0.4,!=2.1.2,!=2.1.6,>=2.0.3 in c:\\users\\user\\anaconda3\\lib\\site-packages (from matplotlib->catboost) (2.4.7)\n",
      "Requirement already satisfied: retrying>=1.3.3 in c:\\users\\user\\anaconda3\\lib\\site-packages (from plotly->catboost) (1.3.3)\n",
      "Requirement already satisfied: pytz>=2017.2 in c:\\users\\user\\anaconda3\\lib\\site-packages (from pandas>=0.24.0->catboost) (2020.1)\n",
      "Installing collected packages: graphviz, catboost\n",
      "Successfully installed catboost-1.0.3 graphviz-0.19.1\n"
     ]
    },
    {
     "ename": "ModuleNotFoundError",
     "evalue": "No module named 'gensim'",
     "output_type": "error",
     "traceback": [
      "\u001b[1;31m---------------------------------------------------------------------------\u001b[0m",
      "\u001b[1;31mModuleNotFoundError\u001b[0m                       Traceback (most recent call last)",
      "\u001b[1;32m<ipython-input-1-bc1f4eb8dd7a>\u001b[0m in \u001b[0;36m<module>\u001b[1;34m\u001b[0m\n\u001b[0;32m     31\u001b[0m \u001b[1;32mfrom\u001b[0m \u001b[0msklearn\u001b[0m\u001b[1;33m.\u001b[0m\u001b[0mfeature_selection\u001b[0m \u001b[1;32mimport\u001b[0m \u001b[0mSelectPercentile\u001b[0m\u001b[1;33m\u001b[0m\u001b[1;33m\u001b[0m\u001b[0m\n\u001b[0;32m     32\u001b[0m \u001b[1;32mfrom\u001b[0m \u001b[0msklearn\u001b[0m\u001b[1;33m.\u001b[0m\u001b[0mdecomposition\u001b[0m \u001b[1;32mimport\u001b[0m \u001b[0mPCA\u001b[0m\u001b[1;33m\u001b[0m\u001b[1;33m\u001b[0m\u001b[0m\n\u001b[1;32m---> 33\u001b[1;33m \u001b[1;32mfrom\u001b[0m \u001b[0mgensim\u001b[0m\u001b[1;33m.\u001b[0m\u001b[0mmodels\u001b[0m \u001b[1;32mimport\u001b[0m \u001b[0mword2vec\u001b[0m\u001b[1;33m\u001b[0m\u001b[1;33m\u001b[0m\u001b[0m\n\u001b[0m\u001b[0;32m     34\u001b[0m \u001b[1;32mimport\u001b[0m \u001b[0mkerastuner\u001b[0m \u001b[1;32mas\u001b[0m \u001b[0mkt\u001b[0m\u001b[1;33m\u001b[0m\u001b[1;33m\u001b[0m\u001b[0m\n\u001b[0;32m     35\u001b[0m \u001b[1;33m\u001b[0m\u001b[0m\n",
      "\u001b[1;31mModuleNotFoundError\u001b[0m: No module named 'gensim'"
     ]
    }
   ],
   "source": [
    "# Data Wrangling\n",
    "import pandas as pd\n",
    "from pandas import Series\n",
    "import numpy as np\n",
    "!pip install klib\n",
    "!pip install optuna\n",
    "!pip install bayesian-optimization\n",
    "!pip install catboost\n",
    "!pip install -q -U keras-tuner\n",
    "\n",
    "# Visualization\n",
    "import matplotlib.pylab as plt\n",
    "from matplotlib import font_manager, rc\n",
    "import seaborn as sns\n",
    "plt.rc('font', family='AppleGothic')\n",
    "%matplotlib inline\n",
    "plt.rcParams['axes.unicode_minus'] = False \n",
    "\n",
    "\n",
    "# EDA\n",
    "import klib\n",
    "\n",
    "\n",
    "# Preprocessing & Feature Engineering\n",
    "from sklearn.model_selection import train_test_split\n",
    "from sklearn.preprocessing import MinMaxScaler\n",
    "from sklearn.impute import SimpleImputer \n",
    "from sklearn.preprocessing import StandardScaler\n",
    "from sklearn.preprocessing import MinMaxScaler\n",
    "from sklearn.preprocessing import PowerTransformer\n",
    "from sklearn.feature_selection import SelectPercentile\n",
    "from sklearn.decomposition import PCA\n",
    "from gensim.models import word2vec\n",
    "import kerastuner as kt\n",
    "\n",
    "# Hyperparameter Optimization\n",
    "from sklearn.model_selection import GridSearchCV\n",
    "from sklearn.model_selection import RandomizedSearchCV\n",
    "from bayes_opt import BayesianOptimization\n",
    "\n",
    "\n",
    "# Modeling\n",
    "from sklearn.ensemble import RandomForestClassifier, AdaBoostClassifier\n",
    "from sklearn.dummy import DummyClassifier\n",
    "from sklearn.linear_model import LogisticRegression\n",
    "from sklearn.neighbors import KNeighborsClassifier\n",
    "from sklearn.ensemble import RandomForestClassifier\n",
    "from sklearn.neural_network import MLPClassifier\n",
    "from sklearn.tree import DecisionTreeClassifier\n",
    "from sklearn.ensemble import GradientBoostingClassifier\n",
    "from sklearn.svm import SVC\n",
    "from sklearn.ensemble import VotingClassifier\n",
    "from sklearn.ensemble import StackingClassifier\n",
    "from sklearn.base import ClassifierMixin\n",
    "from sklearn.ensemble import ExtraTreesClassifier\n",
    "from xgboost import XGBClassifier\n",
    "from sklearn.model_selection import StratifiedKFold\n",
    "from lightgbm import LGBMClassifier\n",
    "from catboost import CatBoostClassifier\n",
    "from sklearn.ensemble import BaggingClassifier\n",
    "import optuna\n",
    "\n",
    "\n",
    "# Evaluation\n",
    "from sklearn.metrics import roc_auc_score\n",
    "from sklearn.metrics import accuracy_score\n",
    "from sklearn.model_selection import cross_val_score\n",
    "from sklearn.metrics import log_loss\n",
    "\n",
    "\n",
    "# Utility\n",
    "import os\n",
    "import time\n",
    "import random\n",
    "import warnings; warnings.filterwarnings(\"ignore\")\n",
    "from IPython.display import Image\n",
    "import pickle\n",
    "from tqdm import tqdm, tqdm_notebook\n",
    "import platform\n",
    "from itertools import combinations\n",
    "from scipy.stats.mstats import gmean\n",
    "!pip install shap\n",
    "import tensorflow as tf\n",
    "from tensorflow import keras\n",
    "import joblib\n",
    "print(tf.__version__)\n",
    "import gc"
   ]
  },
  {
   "cell_type": "markdown",
   "id": "1a950e30",
   "metadata": {
    "id": "cavZWk_Gtd-8"
   },
   "source": [
    "### Load Data & Reset Seed"
   ]
  },
  {
   "cell_type": "code",
   "execution_count": 2,
   "id": "f18b4beb",
   "metadata": {
    "id": "-SleulmFChso"
   },
   "outputs": [],
   "source": [
    "SHAP_THRESHOLD = 0    # feature로 사용할 최소 SHAP feature importance\n",
    "DATA_REDUCTION = 1.0  # 학습 데이터 축소 비율\n",
    "TRAIN_RATIO = 0.6     # 학습 데이터를 Train과 Validation으로 나누는 비율"
   ]
  },
  {
   "cell_type": "code",
   "execution_count": 3,
   "id": "da6aeaee",
   "metadata": {
    "colab": {
     "base_uri": "https://localhost:8080/"
    },
    "id": "812b0190",
    "outputId": "72e61a77-73b0-4e71-cfe4-675bab1dd9e4"
   },
   "outputs": [
    {
     "name": "stdout",
     "output_type": "stream",
     "text": [
      "RANDOM SEEDS RESET\n"
     ]
    }
   ],
   "source": [
    "# 매번 모델링을 할 때마다 동일한 결과를 얻기 위해 랜덤 시드 설정 동일하게 유지\n",
    "# 럭키 시드 찾는건 시간상 어려움\n",
    "\n",
    "def reset_seeds(reset_graph_with_backend=None):\n",
    "    if reset_graph_with_backend is not None:\n",
    "        K = reset_graph_with_backend\n",
    "        K.clear_session()\n",
    "        tf.compat.v1.reset_default_graph()\n",
    "        print(\"KERAS AND TENSORFLOW GRAPHS RESET\")  # optional\n",
    "\n",
    "    np.random.seed(1)\n",
    "    random.seed(2)\n",
    "    tf.compat.v1.set_random_seed(3)\n",
    "    os.environ['CUDA_VISIBLE_DEVICES'] = ''  # for GPU\n",
    "    print(\"RANDOM SEEDS RESET\")  # optional\n",
    "   \n",
    "reset_seeds()"
   ]
  },
  {
   "cell_type": "code",
   "execution_count": null,
   "id": "2a970d7a",
   "metadata": {
    "id": "FJ9H824iCjrt"
   },
   "outputs": [],
   "source": [
    "def reduce_mem_usage(df):\n",
    "    \"\"\" iterate through all the columns of a dataframe and modify the data type\n",
    "        to reduce memory usage.        \n",
    "    \"\"\"\n",
    "    start_mem = df.memory_usage().sum() / 1024**2\n",
    "    print('Memory usage of dataframe is {:.2f} MB'.format(start_mem))\n",
    "    \n",
    "    for col in df.columns:\n",
    "        col_type = df[col].dtype\n",
    "        \n",
    "        if col_type != object:\n",
    "            c_min = df[col].min()\n",
    "            c_max = df[col].max()\n",
    "            if str(col_type)[:3] == 'int':\n",
    "                if c_min > np.iinfo(np.int8).min and c_max < np.iinfo(np.int8).max:\n",
    "                    df[col] = df[col].astype(np.int8)\n",
    "                elif c_min > np.iinfo(np.int16).min and c_max < np.iinfo(np.int16).max:\n",
    "                    df[col] = df[col].astype(np.int16)\n",
    "                elif c_min > np.iinfo(np.int32).min and c_max < np.iinfo(np.int32).max:\n",
    "                    df[col] = df[col].astype(np.int32)\n",
    "                elif c_min > np.iinfo(np.int64).min and c_max < np.iinfo(np.int64).max:\n",
    "                    df[col] = df[col].astype(np.int64)  \n",
    "            else:\n",
    "                if c_min > np.finfo(np.float16).min and c_max < np.finfo(np.float16).max:\n",
    "                    df[col] = df[col].astype(np.float16)\n",
    "                elif c_min > np.finfo(np.float32).min and c_max < np.finfo(np.float32).max:\n",
    "                    df[col] = df[col].astype(np.float32)\n",
    "                else:\n",
    "                    df[col] = df[col].astype(np.float64)\n",
    "        else:\n",
    "            df[col] = df[col].astype('category')\n",
    "\n",
    "    end_mem = df.memory_usage().sum() / 1024**2\n",
    "    print('Memory usage after optimization is: {:.2f} MB'.format(end_mem))\n",
    "    print('Decreased by {:.1f}%'.format(100 * (start_mem - end_mem) / start_mem))\n",
    "    \n",
    "    return df"
   ]
  },
  {
   "cell_type": "code",
   "execution_count": 4,
   "id": "19e04def",
   "metadata": {
    "colab": {
     "base_uri": "https://localhost:8080/"
    },
    "id": "1fabf757",
    "outputId": "ec814630-b6d4-4055-cddc-41ea644c5831"
   },
   "outputs": [],
   "source": [
    "train = pd.read_csv(os.path.abspath(\"../input\") + '/response_train.csv')\n",
    "train.sort_values(by='TIME',inplace=True)\n",
    "\n",
    "panel = pd.read_csv(os.path.abspath(\"../input\") + '/panel.csv')\n",
    "\n",
    "test = pd.read_csv(os.path.abspath(\"../input\") + '/response_test.csv').sort_values(by='ID')\n",
    "\n",
    "survey = pd.read_csv(os.path.abspath(\"../input\") + '/survey.csv')"
   ]
  },
  {
   "cell_type": "markdown",
   "id": "10a44e6e",
   "metadata": {},
   "source": [
    "### Data Preprocessing"
   ]
  },
  {
   "cell_type": "markdown",
   "id": "fdd77347",
   "metadata": {
    "id": "dRn9KaMnm1Wl"
   },
   "source": [
    "#### survey 가성비 컬럼 생성"
   ]
  },
  {
   "cell_type": "code",
   "execution_count": 5,
   "id": "708ff083",
   "metadata": {
    "id": "P7oym3Hnm4Hv"
   },
   "outputs": [],
   "source": [
    "survey['EFC'] = survey['CPI'] / survey['LOI']"
   ]
  },
  {
   "cell_type": "markdown",
   "id": "b2c9b1b7",
   "metadata": {
    "id": "dc1626e4"
   },
   "source": [
    "#### panel 질문 응답수"
   ]
  },
  {
   "cell_type": "code",
   "execution_count": 6,
   "id": "34f48edf",
   "metadata": {
    "id": "eaa1a7d6"
   },
   "outputs": [],
   "source": [
    "panel_Questions = panel.iloc[:,4:]\n",
    "\n",
    "panel_Questions_count = []\n",
    "for i in range(panel_Questions.shape[0]):\n",
    "            panel_Questions_count.append(pd.notna(panel_Questions.iloc[i,:].values).sum())\n",
    "\n",
    "panel['Questions_count'] = panel_Questions_count"
   ]
  },
  {
   "cell_type": "markdown",
   "id": "09dfb37b",
   "metadata": {
    "id": "643f271f"
   },
   "source": [
    "#### panel - 데이터 정제 및 병합"
   ]
  },
  {
   "cell_type": "code",
   "execution_count": 7,
   "id": "3f9a32d4",
   "metadata": {
    "id": "01bd94fb"
   },
   "outputs": [],
   "source": [
    "# 성별, 지역 값이 Nan 값인 패널 1명 test에도 존재 하지 않아 그냥 drop\n",
    "panel.drop(8315, axis=0, inplace=True)"
   ]
  },
  {
   "cell_type": "code",
   "execution_count": 8,
   "id": "75188601",
   "metadata": {
    "id": "c632a7d2"
   },
   "outputs": [],
   "source": [
    "# 겹치는 columms 제거  # sq1,sq2,sq3가 BIRTH, GENDER, REGION 컬럼보다 결측치가 더 많음.\n",
    "\n",
    "del panel['SQ1']\n",
    "\n",
    "del panel['SQ2']\n",
    "\n",
    "del panel['SQ3']"
   ]
  },
  {
   "cell_type": "code",
   "execution_count": 9,
   "id": "f52743ba",
   "metadata": {
    "id": "f7d06715"
   },
   "outputs": [],
   "source": [
    "# merge\n",
    "\n",
    "train=pd.merge(pd.merge(train,panel,on=\"userID\"),survey,on=\"surveyID\")\n",
    "\n",
    "test=pd.merge(pd.merge(test,panel,on=\"userID\"),survey,on=\"surveyID\")"
   ]
  },
  {
   "cell_type": "markdown",
   "id": "6b09bfce",
   "metadata": {
    "id": "2e45107c"
   },
   "source": [
    "#### Handling Missing Values"
   ]
  },
  {
   "cell_type": "code",
   "execution_count": 10,
   "id": "05880672",
   "metadata": {
    "colab": {
     "base_uri": "https://localhost:8080/"
    },
    "id": "d61532a2",
    "outputId": "40d2fee0-af8e-4586-9a5f-6b9adaaefcfd"
   },
   "outputs": [
    {
     "name": "stdout",
     "output_type": "stream",
     "text": [
      "B4 \t 733 \t 0.30726936583927594\n",
      "B5 \t 719 \t 0.3123738732575725\n",
      "C1 \t 1819 \t 0.3676381080820416\n",
      "C2 \t 84 \t 0.47678798962460034\n",
      "C3 \t 1110 \t 0.48999233936471576\n",
      "F1 \t 146 \t 0.518416415984934\n",
      "F2 \t 83 \t 0.5308220777184397\n",
      "H1 \t 865 \t 0.5505034058935712\n",
      "T1 \t 91 \t 0.557678548161784\n",
      "X1 \t 70 \t 0.5767936377373865\n",
      "X2 \t 55 \t 0.5855288417718925\n",
      "X3 \t 48 \t 0.603304288711951\n",
      "X4 \t 61 \t 0.635134564757856\n",
      "DQ1 \t 63 \t 0.6571707685491058\n",
      "DQ2 \t 155 \t 0.6632203663198752\n",
      "DQ3 \t 147 \t 0.6718042743367902\n",
      "DQ4 \t 77 \t 0.6739833855766774\n",
      "DQ5 \t 9 \t 0.6802054852758593\n",
      "DQ6 \t 11 \t 0.6811175433441681\n",
      "DQ7 \t 12 \t 0.6852596286559551\n",
      "CATEGORIES \t 91 \t 0.8198596617290198\n"
     ]
    }
   ],
   "source": [
    "# 결측값 비율이 % 이하인 column만 사용\n",
    "features = []\n",
    "for f in train.columns:\n",
    "    if train[f].isnull().sum()/train.shape[0] > 0.3:\n",
    "        print(f, '\\t', train[f].nunique(), '\\t', train[f].isnull().sum()/train.shape[0])\n",
    "        features.append(f)"
   ]
  },
  {
   "cell_type": "code",
   "execution_count": 11,
   "id": "a77794c7",
   "metadata": {
    "id": "74f63648"
   },
   "outputs": [],
   "source": [
    "train.drop(columns = features, inplace = True)\n",
    "test.drop(columns = features, inplace = True)"
   ]
  },
  {
   "cell_type": "markdown",
   "id": "e8c7de40",
   "metadata": {
    "id": "1abe06c3"
   },
   "source": [
    "#### Encoding SQ4 ~ B3 "
   ]
  },
  {
   "cell_type": "code",
   "execution_count": 13,
   "id": "1ac01c92",
   "metadata": {
    "id": "e8f2cd31"
   },
   "outputs": [],
   "source": [
    "def handle_profile(x):\n",
    "    if x in ['1', '2', '3', '4', '5', '6']:\n",
    "        return int(x)\n",
    "    elif x in ['1,', '2,', '3,', '4,', '5,', '6,']:\n",
    "        return int(x[0])\n",
    "    else:\n",
    "        return 99\n",
    "\n",
    "train.SQ4 = train.SQ4.apply(handle_profile)\n",
    "test.SQ4 = test.SQ4.apply(handle_profile)"
   ]
  },
  {
   "cell_type": "code",
   "execution_count": 14,
   "id": "c9af8a1f",
   "metadata": {
    "id": "c3126fd7"
   },
   "outputs": [],
   "source": [
    "def handle_profile(x):\n",
    "    if x in ['1', '2', '3', '4']:\n",
    "        return int(x)\n",
    "    elif x in ['1.0', '2.0', '3.0', '4.0']:\n",
    "        return int(x[0])\n",
    "    else:\n",
    "        return 99\n",
    "\n",
    "train.SQ5 = train.SQ5.apply(handle_profile)\n",
    "test.SQ5 = test.SQ5.apply(handle_profile)"
   ]
  },
  {
   "cell_type": "code",
   "execution_count": 15,
   "id": "b88c9b9f",
   "metadata": {
    "id": "59b3b0ca"
   },
   "outputs": [],
   "source": [
    "def handle_profile(x):\n",
    "    if x in ['1', '2']:\n",
    "        return int(x)\n",
    "    elif x in ['1,', '2,']:\n",
    "        return int(x[0])\n",
    "    else:\n",
    "        return 99\n",
    "\n",
    "train.SQ6 = train.SQ6.apply(handle_profile)\n",
    "test.SQ6 = test.SQ6.apply(handle_profile)"
   ]
  },
  {
   "cell_type": "code",
   "execution_count": 16,
   "id": "9e4fefe7",
   "metadata": {
    "id": "0ee95719"
   },
   "outputs": [],
   "source": [
    "value1 = pd.Series(range(1,17)).apply(lambda x: str(x)).tolist()\n",
    "value2 = pd.Series(np.arange(1.0,17.0)).apply(lambda x: str(x)).tolist()\n",
    "def handle_profile(x):\n",
    "    if x in value1:\n",
    "        return int(x)\n",
    "    elif x in value2:\n",
    "        return int(x[0])\n",
    "    else:\n",
    "        return 99\n",
    "\n",
    "train.SQ7 = train.SQ7.apply(handle_profile)\n",
    "test.SQ7 = test.SQ7.apply(handle_profile)"
   ]
  },
  {
   "cell_type": "code",
   "execution_count": 17,
   "id": "1f0fe034",
   "metadata": {
    "id": "c04268df"
   },
   "outputs": [],
   "source": [
    "def handle_profile(x):\n",
    "    if x in ['1', '2', '3', '4', '5']:\n",
    "        return int(x)\n",
    "    else:\n",
    "        return 99\n",
    "\n",
    "train.SQ8 = train.SQ8.apply(handle_profile)\n",
    "test.SQ8 = test.SQ8.apply(handle_profile)"
   ]
  },
  {
   "cell_type": "code",
   "execution_count": 18,
   "id": "64fe819e",
   "metadata": {
    "id": "d183763d"
   },
   "outputs": [],
   "source": [
    "values = pd.Series(range(1,23)).apply(lambda x: str(x)).tolist()\n",
    "def handle_profile(x):    \n",
    "    if x in values:\n",
    "        return int(x)\n",
    "    else:\n",
    "        return 99\n",
    "\n",
    "train.A1 = train.A1.apply(handle_profile)\n",
    "test.A1 = test.A1.apply(handle_profile)"
   ]
  },
  {
   "cell_type": "code",
   "execution_count": 19,
   "id": "5f6f69e8",
   "metadata": {
    "id": "718b9c57"
   },
   "outputs": [],
   "source": [
    "def handle_profile(x):    \n",
    "    if x in ['1']:\n",
    "        return 2\n",
    "    elif x in ['2', '3']:\n",
    "        return 3\n",
    "    elif x in ['4', '5', '6', '7']:\n",
    "        return 4\n",
    "    elif x in ['8']:\n",
    "        return 5\n",
    "    else:\n",
    "        return 99\n",
    "\n",
    "train.B1 = train.B1.apply(handle_profile)\n",
    "test.B1 = test.B1.apply(handle_profile)"
   ]
  },
  {
   "cell_type": "code",
   "execution_count": 20,
   "id": "da24ce16",
   "metadata": {
    "id": "6366053f"
   },
   "outputs": [],
   "source": [
    "def handle_profile(x):\n",
    "    if x in ['1', '2', '3', '4', '5', '6']:\n",
    "        return int(x)\n",
    "    else:\n",
    "        return 99\n",
    "\n",
    "train.B2 = train.B2.apply(handle_profile)\n",
    "test.B2 = test.B2.apply(handle_profile)"
   ]
  },
  {
   "cell_type": "code",
   "execution_count": 21,
   "id": "053b244a",
   "metadata": {
    "id": "9d0cdf4c"
   },
   "outputs": [],
   "source": [
    "def handle_profile(x):    \n",
    "    if x in ['1', '2', '3']:\n",
    "        return int(x)\n",
    "    elif x in ['1,', '2,', '3,']:\n",
    "        return int(x[0])\n",
    "    elif x in ['99', '99,']:\n",
    "        return 99\n",
    "    else:\n",
    "        return 4  # 기타 제조사\n",
    "\n",
    "train.B3 = train.B3.apply(handle_profile)\n",
    "test.B3 = test.B3.apply(handle_profile)"
   ]
  },
  {
   "cell_type": "code",
   "execution_count": 22,
   "id": "dfbd9c9c",
   "metadata": {
    "id": "nqaURmIXJ5zG"
   },
   "outputs": [],
   "source": [
    "train['TIME'] = train['TIME'].astype(\"datetime64\")\n",
    "test['TIME'] = test['TIME'].astype(\"datetime64\")\n",
    "before_train = train.query(\"TIME <= '2021-01-01 00:00:00'\")\n",
    "train = train.query(\"TIME>='2021-01-01 00:00:00'\")"
   ]
  },
  {
   "cell_type": "code",
   "execution_count": 23,
   "id": "2c25351e",
   "metadata": {
    "id": "XQrtiD74_Gqs"
   },
   "outputs": [],
   "source": [
    "def null_x(x):\n",
    "    global train; global test;\n",
    "    for filln in x:\n",
    "        train = train.merge(train.groupby(['BIRTH','GENDER','TYPE','Questions_count','SQ5','SQ6'])[filln].agg([('exp', np.mean)]).reset_index(), on=['BIRTH','GENDER','TYPE','Questions_count','SQ5','SQ6'], how='left')\n",
    "        train[filln] = np.where(train[filln].isna(), train['exp'], train[filln])\n",
    "        train.drop(labels=\"exp\",axis=1, inplace=True)\n",
    "        train[filln] = train[filln].fillna(0)\n",
    "\n",
    "        test = test.merge(test.groupby(['BIRTH','GENDER','TYPE','Questions_count','SQ5','SQ6'])[filln].agg([('exp', np.mean)]).reset_index(), on=['BIRTH','GENDER','TYPE','Questions_count','SQ5','SQ6'], how='left')\n",
    "        test[filln] = np.where(test[filln].isna(), test['exp'], test[filln])\n",
    "        test.drop(labels=\"exp\",axis=1, inplace=True)\n",
    "        test[filln] = test[filln].fillna(0)"
   ]
  },
  {
   "cell_type": "markdown",
   "id": "68c14807",
   "metadata": {
    "id": "beeb5647"
   },
   "source": [
    "#### Variable of Times"
   ]
  },
  {
   "cell_type": "code",
   "execution_count": 24,
   "id": "9531e87c",
   "metadata": {
    "id": "E481Ey9NALeK"
   },
   "outputs": [],
   "source": [
    "data = [train,test]\n",
    "for i in data:\n",
    "    i['DAY'] = i['TIME'].dt.day\n",
    "    i['WEEKDAY'] = i['TIME'].dt.dayofweek\n",
    "    i['HOUR'] = i['TIME'].dt.hour\n",
    "    i['HOUR_range'] = pd.cut(i['HOUR'], 4, labels = ['새벽', '오전', '오후', '야간'], right = True, include_lowest=True)"
   ]
  },
  {
   "cell_type": "markdown",
   "id": "5db0a546",
   "metadata": {
    "id": "5b3530f6"
   },
   "source": [
    "#### panel ID별 누적 평균 포인트"
   ]
  },
  {
   "cell_type": "code",
   "execution_count": 25,
   "id": "5e977980",
   "metadata": {
    "id": "84beb006"
   },
   "outputs": [],
   "source": [
    "Points_earned_b = pd.DataFrame(before_train.query('STATUS==1').groupby('userID')['CPI'].agg([('Points_earned',np.sum)])).reset_index()\n",
    "Points_earned = pd.DataFrame(train.query('STATUS==1').groupby('userID')['CPI'].agg([('Points_earned',np.sum)])).reset_index()\n",
    "train = train.merge(Points_earned_b, how='left')\n",
    "\n",
    "test = test.merge(Points_earned_b, how='left')\n"
   ]
  },
  {
   "cell_type": "code",
   "execution_count": 26,
   "id": "d41061a2",
   "metadata": {
    "id": "e37af026"
   },
   "outputs": [],
   "source": [
    "Points_earned_mean = pd.DataFrame(before_train.query('STATUS==1').groupby('userID')['CPI'].agg([('Points_earned_mean',np.mean)])).reset_index()\n",
    "Points_earned_mean1 = pd.DataFrame(train.query('STATUS==1').groupby('userID')['CPI'].agg([('Points_earned_mean',np.mean)])).reset_index()\n",
    "train = train.merge(Points_earned_mean, how='left')\n",
    "\n",
    "test = test.merge(Points_earned_mean, how='left')\n"
   ]
  },
  {
   "cell_type": "code",
   "execution_count": 27,
   "id": "b7c79dc5",
   "metadata": {
    "id": "OKQ7qO15_WRR"
   },
   "outputs": [],
   "source": [
    "null_x([\"Points_earned\",'Points_earned_mean'])"
   ]
  },
  {
   "cell_type": "code",
   "execution_count": 28,
   "id": "052283ca",
   "metadata": {
    "id": "6RUY_tAI3lQf"
   },
   "outputs": [],
   "source": [
    "train['CPI_mean'] = train['Points_earned_mean'] < train['CPI']\n",
    "train['CPI_mean'] = train['CPI_mean'].apply(lambda x : 1 if x==True else 0)\n",
    "\n",
    "\n",
    "test['CPI_mean'] = test['Points_earned_mean'] < test['CPI']\n",
    "test['CPI_mean'] = test['CPI_mean'].apply(lambda x : 1 if x==True else 0)\n"
   ]
  },
  {
   "cell_type": "markdown",
   "id": "b9386d33",
   "metadata": {
    "id": "ZGXdPy8NM-f1"
   },
   "source": [
    "#### panel ID별 누적 평균 난이도"
   ]
  },
  {
   "cell_type": "code",
   "execution_count": 29,
   "id": "3f7408ee",
   "metadata": {
    "id": "ucM1JPlfM-bV"
   },
   "outputs": [],
   "source": [
    "IR_mean_b = pd.DataFrame(before_train.query('STATUS==1').groupby('userID')['IR'].agg([('Difficulty_earned_mean',np.mean)])).reset_index()\n",
    "\n",
    "IR_mean = pd.DataFrame(train.query('STATUS==1').groupby('userID')['IR'].agg([('Difficulty_earned__mean',np.mean)])).reset_index()\n",
    "\n",
    "\n",
    "train = train.merge(IR_mean_b, how='left')\n",
    "\n",
    "test = test.merge(IR_mean_b, how='left')"
   ]
  },
  {
   "cell_type": "code",
   "execution_count": 30,
   "id": "fcc38929",
   "metadata": {
    "id": "XDxtfC1bPYGC"
   },
   "outputs": [],
   "source": [
    "IR_sum_b = pd.DataFrame(before_train.query('STATUS==1').groupby('userID')['IR'].agg([('Difficulty_earned_sum',np.sum)])).reset_index()\n",
    "\n",
    "IR_sum = pd.DataFrame(train.query('STATUS==1').groupby('userID')['IR'].agg([('Difficulty_earned_sum',np.sum)])).reset_index()\n",
    "\n",
    "\n",
    "train = train.merge(IR_sum_b, how='left')\n",
    "\n",
    "test = test.merge(IR_sum_b, how='left')"
   ]
  },
  {
   "cell_type": "code",
   "execution_count": 31,
   "id": "278a0e91",
   "metadata": {
    "id": "OW_TAcxJASjI"
   },
   "outputs": [],
   "source": [
    "null_x([\"Difficulty_earned_sum\",'Difficulty_earned_mean'])"
   ]
  },
  {
   "cell_type": "code",
   "execution_count": 32,
   "id": "01f940b9",
   "metadata": {
    "id": "26K77u2r4FwR"
   },
   "outputs": [],
   "source": [
    "train['IR_eff'] = train['Difficulty_earned_mean'] > train['IR']\n",
    "train['IR_eff'] = train['IR_eff'].apply(lambda x : 1 if x==True else 0)\n",
    "\n",
    "\n",
    "test['IR_eff'] = test['Difficulty_earned_mean'] > test['IR']\n",
    "test['IR_eff'] = test['IR_eff'].apply(lambda x : 1 if x==True else 0)\n"
   ]
  },
  {
   "cell_type": "markdown",
   "id": "a3fc0cdc",
   "metadata": {
    "id": "64f2c8b3"
   },
   "source": [
    "#### panel ID별 누적 평균 시간"
   ]
  },
  {
   "cell_type": "code",
   "execution_count": 33,
   "id": "cf9b756c",
   "metadata": {
    "id": "8cababcd"
   },
   "outputs": [],
   "source": [
    "Time_earned_b = pd.DataFrame(before_train.query('STATUS==1').groupby('userID')['LOI'].agg([('Time_earned',np.sum)])).reset_index()\n",
    "Time_earned = pd.DataFrame(train.query('STATUS==1').groupby('userID')['LOI'].agg([('Time_earned',np.sum)])).reset_index()\n",
    "train = train.merge(Time_earned_b, how='left')\n",
    "test = test.merge(Time_earned_b, how='left')"
   ]
  },
  {
   "cell_type": "code",
   "execution_count": 34,
   "id": "dcef7fba",
   "metadata": {
    "id": "4WFypiiRKzvV"
   },
   "outputs": [],
   "source": [
    "Time_earned_mean = pd.DataFrame(before_train.query('STATUS==1').groupby('userID')['LOI'].agg([('Time_earned_mean',np.mean)])).reset_index()\n",
    "Time_earned_mean1 = pd.DataFrame(train.query('STATUS==1').groupby('userID')['LOI'].agg([('Time_earned_mean',np.mean)])).reset_index()\n",
    "train = train.merge(Time_earned_mean, how='left')\n",
    "\n",
    "test = test.merge(Time_earned_mean, how='left')\n"
   ]
  },
  {
   "cell_type": "code",
   "execution_count": 35,
   "id": "3ed9b3ec",
   "metadata": {
    "id": "APxOc64iAv1X"
   },
   "outputs": [],
   "source": [
    "null_x([\"Time_earned\",'Time_earned_mean'])"
   ]
  },
  {
   "cell_type": "code",
   "execution_count": 36,
   "id": "386ac644",
   "metadata": {
    "id": "sOjb2omI4U0h"
   },
   "outputs": [],
   "source": [
    "train['LOI_eff_mean'] = train['Time_earned_mean'] > train['LOI']\n",
    "train['LOI_eff_mean'] = train['LOI_eff_mean'].apply(lambda x : 1 if x==True else 0)\n",
    "\n",
    "\n",
    "test['LOI_eff_mean'] = test['Time_earned_mean'] > test['LOI']\n",
    "test['LOI_eff_mean'] = test['LOI_eff_mean'].apply(lambda x : 1 if x==True else 0)\n"
   ]
  },
  {
   "cell_type": "markdown",
   "id": "e45d0763",
   "metadata": {
    "id": "EkkRKZRloUAL"
   },
   "source": [
    "#### panel ID별 누적 평균 가성비"
   ]
  },
  {
   "cell_type": "code",
   "execution_count": 37,
   "id": "3c35f9d5",
   "metadata": {
    "id": "24P9llEpoS9J"
   },
   "outputs": [],
   "source": [
    "Time_earned_b = pd.DataFrame(before_train.query('STATUS==1').groupby('userID')['EFC'].agg([('EFC_earned',np.sum)])).reset_index()\n",
    "Time_earned = pd.DataFrame(train.query('STATUS==1').groupby('userID')['EFC'].agg([('EFC_earned',np.sum)])).reset_index()\n",
    "train = train.merge(Time_earned_b, how='left')\n",
    "\n",
    "test = test.merge(Time_earned_b, how='left')\n"
   ]
  },
  {
   "cell_type": "code",
   "execution_count": 38,
   "id": "5ac2162e",
   "metadata": {
    "id": "E6dy9Q5coTA0"
   },
   "outputs": [],
   "source": [
    "Time_earned_mean = pd.DataFrame(before_train.query('STATUS==1').groupby('userID')['EFC'].agg([('EFC_earned_mean',np.mean)])).reset_index()\n",
    "Time_earned_mean1 = pd.DataFrame(train.query('STATUS==1').groupby('userID')['EFC'].agg([('EFC_earned_mean',np.mean)])).reset_index()\n",
    "train = train.merge(Time_earned_mean, how='left')\n",
    "\n",
    "test = test.merge(Time_earned_mean, how='left')\n"
   ]
  },
  {
   "cell_type": "code",
   "execution_count": 39,
   "id": "5f506579",
   "metadata": {
    "id": "8eQz-moYA1Ea"
   },
   "outputs": [],
   "source": [
    "null_x([\"EFC_earned\",'EFC_earned_mean'])"
   ]
  },
  {
   "cell_type": "code",
   "execution_count": 40,
   "id": "227d44aa",
   "metadata": {
    "id": "_HRFoqC_o8GH"
   },
   "outputs": [],
   "source": [
    "train['CPI_eff_mean'] = train['EFC_earned_mean'] < train['EFC']\n",
    "train['CPI_eff_mean'] = train['CPI_eff_mean'].apply(lambda x : 1 if x==True else 0)\n",
    "\n",
    "\n",
    "test['CPI_eff_mean'] = test['EFC_earned_mean'] < test['EFC']\n",
    "test['CPI_eff_mean'] = test['CPI_eff_mean'].apply(lambda x : 1 if x==True else 0)\n"
   ]
  },
  {
   "cell_type": "markdown",
   "id": "de173395",
   "metadata": {
    "id": "3mrsd2DDo8AB"
   },
   "source": [
    "#### panel ID별 리워드, 난이도, 시간, 가성비 최대 최소 비교"
   ]
  },
  {
   "cell_type": "code",
   "execution_count": 41,
   "id": "9124377b",
   "metadata": {
    "id": "Fj7JZUQBpmt1"
   },
   "outputs": [],
   "source": [
    "# CPI MIN\n",
    "user_CPI_min = before_train.groupby('userID')['CPI'].agg([('user_CPI_min', np.min)]).reset_index()\n",
    "\n",
    "train = train.merge(user_CPI_min[['userID','user_CPI_min']], on = 'userID', how= 'left')\n",
    "\n",
    "test = test.merge(user_CPI_min[['userID','user_CPI_min']], on = 'userID', how= 'left')"
   ]
  },
  {
   "cell_type": "code",
   "execution_count": 42,
   "id": "b131c6eb",
   "metadata": {
    "id": "pu4HUVNHBH0j"
   },
   "outputs": [],
   "source": [
    "null_x([\"user_CPI_min\"])"
   ]
  },
  {
   "cell_type": "code",
   "execution_count": 43,
   "id": "860da737",
   "metadata": {
    "id": "L8GidzAepmXB"
   },
   "outputs": [],
   "source": [
    "train['CPI_min'] = train['user_CPI_min'] < train['CPI']\n",
    "train['CPI_min'] = train['CPI_min'].apply(lambda x : 1 if x==True else 0)\n",
    "train.drop(labels=\"user_CPI_min\",axis=1,inplace=True)\n",
    "\n",
    "test['CPI_min'] = test['user_CPI_min'] < test['CPI']\n",
    "test['CPI_min'] = test['CPI_min'].apply(lambda x : 1 if x==True else 0)\n",
    "test.drop(labels=\"user_CPI_min\",axis=1,inplace=True)"
   ]
  },
  {
   "cell_type": "code",
   "execution_count": 44,
   "id": "2059bdbd",
   "metadata": {
    "id": "IyTL-P1rpmS2"
   },
   "outputs": [],
   "source": [
    "# IR MAX\n",
    "user_IR_max = before_train.groupby('userID')['IR'].agg([('user_IR_max', np.max)]).reset_index()\n",
    "\n",
    "train = train.merge(user_IR_max[['userID','user_IR_max']], on = 'userID', how= 'left')\n",
    "\n",
    "\n",
    "test = test.merge(user_IR_max[['userID','user_IR_max']], on = 'userID', how= 'left')\n"
   ]
  },
  {
   "cell_type": "code",
   "execution_count": 45,
   "id": "e96dd4d4",
   "metadata": {
    "id": "EPFT9UQ-BNxI"
   },
   "outputs": [],
   "source": [
    "null_x([\"user_IR_max\"])"
   ]
  },
  {
   "cell_type": "code",
   "execution_count": 46,
   "id": "657ce33e",
   "metadata": {
    "id": "amg-oNxjpmOm"
   },
   "outputs": [],
   "source": [
    "train['IR_max'] = train['user_IR_max'] > train['IR']\n",
    "train['IR_max'] = train['IR_max'].apply(lambda x : 1 if x==True else 0)\n",
    "train.drop(labels=\"user_IR_max\",axis=1,inplace=True)\n",
    "\n",
    "test['IR_max'] = test['user_IR_max'] > test['IR']\n",
    "test['IR_max'] = test['IR_max'].apply(lambda x : 1 if x==True else 0)\n",
    "test.drop(labels=\"user_IR_max\",axis=1,inplace=True)"
   ]
  },
  {
   "cell_type": "code",
   "execution_count": 47,
   "id": "61e1560d",
   "metadata": {
    "id": "zrcnWk-3o77T"
   },
   "outputs": [],
   "source": [
    "# LOI MAX\n",
    "user_LOI_max = before_train.groupby('userID')['LOI'].agg([('user_LOI_max', np.max)]).reset_index()\n",
    "\n",
    "train = train.merge(user_LOI_max[['userID','user_LOI_max']], on = 'userID', how= 'left')\n",
    "\n",
    "\n",
    "test = test.merge(user_LOI_max[['userID','user_LOI_max']], on = 'userID', how= 'left')\n"
   ]
  },
  {
   "cell_type": "code",
   "execution_count": 48,
   "id": "dc139df4",
   "metadata": {
    "id": "fCirSUQ5BRBX"
   },
   "outputs": [],
   "source": [
    "null_x([\"user_LOI_max\"])"
   ]
  },
  {
   "cell_type": "code",
   "execution_count": 49,
   "id": "e2137101",
   "metadata": {
    "id": "Nimtj01No70I"
   },
   "outputs": [],
   "source": [
    "train['LOI_max'] = train['user_LOI_max'] > train['LOI']\n",
    "train['LOI_max'] = train['LOI_max'].apply(lambda x : 1 if x==True else 0)\n",
    "train.drop(labels=\"user_LOI_max\",axis=1,inplace=True)\n",
    "\n",
    "test['LOI_max'] = test['user_LOI_max'] > test['LOI']\n",
    "test['LOI_max'] = test['LOI_max'].apply(lambda x : 1 if x==True else 0)\n",
    "test.drop(labels=\"user_LOI_max\",axis=1,inplace=True)"
   ]
  },
  {
   "cell_type": "code",
   "execution_count": 50,
   "id": "c2702238",
   "metadata": {
    "id": "gWxF03CNo7Tp"
   },
   "outputs": [],
   "source": [
    "# EFC MIN\n",
    "user_EFC_min = before_train.groupby('userID')['EFC'].agg([('user_EFC_min', np.min)]).reset_index()\n",
    "\n",
    "train = train.merge(user_EFC_min[['userID','user_EFC_min']], on = 'userID', how= 'left')\n",
    "\n",
    "\n",
    "test = test.merge(user_EFC_min[['userID','user_EFC_min']], on = 'userID', how= 'left')\n"
   ]
  },
  {
   "cell_type": "code",
   "execution_count": 51,
   "id": "4c167ddb",
   "metadata": {
    "id": "4zDSCpz9BUJt"
   },
   "outputs": [],
   "source": [
    "null_x([\"user_EFC_min\"])"
   ]
  },
  {
   "cell_type": "code",
   "execution_count": 52,
   "id": "5b8ca58f",
   "metadata": {
    "id": "oBNFrM7uo7NT"
   },
   "outputs": [],
   "source": [
    "train['EFC_min'] = train['user_EFC_min'] < train['EFC']\n",
    "train['EFC_min'] = train['EFC_min'].apply(lambda x : 1 if x==True else 0)\n",
    "train.drop(labels=\"user_EFC_min\",axis=1,inplace=True)\n",
    "\n",
    "test['EFC_min'] = test['user_EFC_min'] < test['EFC']\n",
    "test['EFC_min'] = test['EFC_min'].apply(lambda x : 1 if x==True else 0)\n",
    "test.drop(labels=\"user_EFC_min\",axis=1,inplace=True)"
   ]
  },
  {
   "cell_type": "markdown",
   "id": "1592c778",
   "metadata": {
    "id": "89fc780a"
   },
   "source": [
    "#### 응답율 "
   ]
  },
  {
   "cell_type": "code",
   "execution_count": 53,
   "id": "374abc5d",
   "metadata": {
    "colab": {
     "base_uri": "https://localhost:8080/"
    },
    "id": "91842ede",
    "outputId": "c7d13ea5-747d-4631-e3e7-2724799fcb00"
   },
   "outputs": [
    {
     "data": {
      "text/plain": [
       "0          0.783951\n",
       "1          0.094444\n",
       "2          0.338384\n",
       "3          0.895238\n",
       "4          0.009217\n",
       "             ...   \n",
       "1355512    0.130719\n",
       "1355513         NaN\n",
       "1355514    0.461538\n",
       "1355515    0.461538\n",
       "1355516    0.461538\n",
       "Name: RESRATE, Length: 1355517, dtype: float64"
      ]
     },
     "execution_count": 53,
     "metadata": {},
     "output_type": "execute_result"
    }
   ],
   "source": [
    "### 응답율\n",
    "\n",
    "res_freq = train.query('STATUS == 1').groupby('userID')['userID'].agg([('FREQ',np.size)]).reset_index()\n",
    "send_freq = train.groupby('userID')['userID'].agg([('SEND',np.size)]).reset_index()\n",
    "train = train.merge(res_freq,how=\"left\").merge(send_freq,how=\"left\")\n",
    "train['RESRATE'] = train['FREQ'] / train['SEND']\n",
    "del  train['SEND'],train['FREQ']\n",
    "\n",
    "test = test.merge(res_freq,how=\"left\").merge(send_freq,how=\"left\")\n",
    "test['RESRATE'] = test['FREQ'] / test['SEND']\n",
    "del  test['SEND'],test['FREQ']\n",
    "\n",
    "train['RESRATE']\n",
    "test['RESRATE']\n",
    "#null_x([\"RESRATE\"])"
   ]
  },
  {
   "cell_type": "markdown",
   "id": "369436b1",
   "metadata": {
    "id": "1f686cf7"
   },
   "source": [
    "#### 성별별 난이도 평균"
   ]
  },
  {
   "cell_type": "code",
   "execution_count": 54,
   "id": "95e0f52d",
   "metadata": {
    "id": "d3cd9b35"
   },
   "outputs": [],
   "source": [
    "res_freq = before_train.query('STATUS == 1').groupby('GENDER')['IR'].agg([('g_i','mean')]).reset_index()\n",
    "train = pd.merge(train, res_freq, how='left')\n",
    "\n",
    "test = pd.merge(test, res_freq, how='left')"
   ]
  },
  {
   "cell_type": "markdown",
   "id": "6638719e",
   "metadata": {
    "id": "pCeqYt2ePdoV"
   },
   "source": [
    "#### Title"
   ]
  },
  {
   "cell_type": "code",
   "execution_count": 55,
   "id": "15b81d2d",
   "metadata": {
    "id": "528f1d1f"
   },
   "outputs": [],
   "source": [
    "import re\n",
    "\n",
    "word_counts = {}\n",
    "def count_word(x): # 응답한 서베이 제목에서 한글 단어만 분리하고 빈도 계산\n",
    "    if x['STATUS'] == 1:\n",
    "        for w in re.sub(r'[^ ㄱ-ㅣ가-힣]', '', x['TITLE']).split():\n",
    "            word_counts[w] = word_counts.get(w, 0) + 1\n",
    "def score_word(x): # 빈도의 합으로 제목을 Encoding\n",
    "    score = 0\n",
    "    for w in re.sub(r'[^ ㄱ-ㅣ가-힣]', '', x['TITLE']).split():\n",
    "        score += word_counts.get(w, 0)\n",
    "    return score    \n",
    "            \n",
    "train.apply(count_word, axis=1)\n",
    "train.TITLE = train.apply(score_word, axis=1)\n",
    "test.TITLE = test.apply(score_word, axis=1)"
   ]
  },
  {
   "cell_type": "code",
   "execution_count": 56,
   "id": "1791bb40",
   "metadata": {
    "id": "0ICCMyHRi7ua"
   },
   "outputs": [],
   "source": [
    "y_train = train['STATUS']\n",
    "train.drop('STATUS', axis=1, inplace=True)\n",
    "\n",
    "test_id = test.iloc[:,0:1]\n",
    "test.drop('ID', axis=1, inplace=True)"
   ]
  },
  {
   "cell_type": "code",
   "execution_count": 57,
   "id": "d7f1221e",
   "metadata": {
    "id": "00a96408"
   },
   "outputs": [],
   "source": [
    "#성능 개선에 무의미한 Feature 제거\n",
    "train.drop(['userID', 'surveyID', 'TIME'], axis=1, inplace=True)\n",
    "test.drop(['userID', 'surveyID', 'TIME'], axis=1, inplace=True)"
   ]
  },
  {
   "cell_type": "markdown",
   "id": "a8289494",
   "metadata": {
    "id": "bH3Ab2DJtvr2"
   },
   "source": [
    "####  Handling Missing Values"
   ]
  },
  {
   "cell_type": "markdown",
   "id": "4b9d7bed",
   "metadata": {
    "id": "zUIuJ7uQuRzp"
   },
   "source": [
    "#### <나머지는 범주형은 새로운 값으로 대치하고 결측값이 있는 수치형은 0으로 변환>"
   ]
  },
  {
   "cell_type": "code",
   "execution_count": 58,
   "id": "656eeb9d",
   "metadata": {
    "id": "DaDtDKnLkIqU"
   },
   "outputs": [],
   "source": [
    "cat_list=['BIRTH', 'GENDER', 'REGION','TYPE', 'SQ4', 'SQ5', 'SQ6', 'SQ7', 'SQ8', 'A1', 'B1', 'B2', 'B3','HOUR_range']"
   ]
  },
  {
   "cell_type": "code",
   "execution_count": 59,
   "id": "d9b0ecb2",
   "metadata": {
    "id": "Dwi6wZcwkeRR"
   },
   "outputs": [],
   "source": [
    "num_list=list(set(train.columns)-set(cat_list))"
   ]
  },
  {
   "cell_type": "code",
   "execution_count": 60,
   "id": "3bfceec3",
   "metadata": {
    "id": "qfPwEXHXpRvK"
   },
   "outputs": [],
   "source": [
    "train[cat_list]=train[cat_list].astype(\"category\")\n",
    "test[cat_list]=test[cat_list].astype(\"category\")"
   ]
  },
  {
   "cell_type": "code",
   "execution_count": 61,
   "id": "f5bf1641",
   "metadata": {
    "id": "t0IdIesIkpsy"
   },
   "outputs": [],
   "source": [
    "for i in cat_list:\n",
    "    train[i] =train[i].cat.add_categories('unknown')\n",
    "    test[i] =test[i].cat.add_categories('unknown')\n",
    "    train[i].fillna(\"unknown\",inplace=True)\n",
    "    test[i].fillna(\"unknown\",inplace=True)\n",
    "\n",
    "for i in num_list:\n",
    "    train[i].fillna(0,inplace=True)\n",
    "    test[i].fillna(0,inplace=True)"
   ]
  },
  {
   "cell_type": "markdown",
   "id": "00bc5344",
   "metadata": {
    "id": "mwZzHP82uKjJ"
   },
   "source": [
    "#### Data Scaling"
   ]
  },
  {
   "cell_type": "code",
   "execution_count": 62,
   "id": "b8c1aae0",
   "metadata": {
    "id": "407327ed"
   },
   "outputs": [],
   "source": [
    "#StandardScaler\n",
    "from sklearn.preprocessing import StandardScaler\n",
    "\n",
    "scaler = StandardScaler()\n",
    "train[num_list] = scaler.fit_transform(train[num_list])\n",
    "test[num_list] = scaler.transform(test[num_list])"
   ]
  },
  {
   "cell_type": "markdown",
   "id": "9fb6e961",
   "metadata": {},
   "source": [
    "#### One-hot Encoding"
   ]
  },
  {
   "cell_type": "code",
   "execution_count": 63,
   "id": "d34524eb",
   "metadata": {
    "id": "VaQqUK8uqMoN"
   },
   "outputs": [],
   "source": [
    "# 원핫 인코딩\n",
    "df_encoded = pd.get_dummies(pd.concat([train, test]), columns=cat_list)\n",
    "X_train = df_encoded[:train.shape[0]]\n",
    "X_test = df_encoded[train.shape[0]:]"
   ]
  },
  {
   "cell_type": "markdown",
   "id": "cee0fa05",
   "metadata": {
    "id": "d0NpGo1QuZqd"
   },
   "source": [
    "### Feature Selection"
   ]
  },
  {
   "cell_type": "code",
   "execution_count": 64,
   "id": "df070a68",
   "metadata": {
    "colab": {
     "base_uri": "https://localhost:8080/",
     "height": 988
    },
    "id": "K_bfGhyoCRKh",
    "outputId": "9c0796e0-9267-4814-f256-db2306e84bb8"
   },
   "outputs": [
    {
     "data": {
      "image/png": "[encoded data removed]",
      "text/plain": [
       "<Figure size 576x684 with 1 Axes>"
      ]
     },
     "metadata": {
      "needs_background": "light"
     },
     "output_type": "display_data"
    },
    {
     "data": {
      "text/html": [
       "<div>\n",
       "<style scoped>\n",
       "    .dataframe tbody tr th:only-of-type {\n",
       "        vertical-align: middle;\n",
       "    }\n",
       "\n",
       "    .dataframe tbody tr th {\n",
       "        vertical-align: top;\n",
       "    }\n",
       "\n",
       "    .dataframe thead th {\n",
       "        text-align: right;\n",
       "    }\n",
       "</style>\n",
       "<table border=\"1\" class=\"dataframe\">\n",
       "  <thead>\n",
       "    <tr style=\"text-align: right;\">\n",
       "      <th></th>\n",
       "      <th>column_name</th>\n",
       "      <th>shap_importance</th>\n",
       "    </tr>\n",
       "  </thead>\n",
       "  <tbody>\n",
       "    <tr>\n",
       "      <th>25</th>\n",
       "      <td>RESRATE</td>\n",
       "      <td>3.044693</td>\n",
       "    </tr>\n",
       "    <tr>\n",
       "      <th>5</th>\n",
       "      <td>EFC</td>\n",
       "      <td>0.30016</td>\n",
       "    </tr>\n",
       "    <tr>\n",
       "      <th>217</th>\n",
       "      <td>HOUR_range_오전</td>\n",
       "      <td>0.164079</td>\n",
       "    </tr>\n",
       "    <tr>\n",
       "      <th>2</th>\n",
       "      <td>IR</td>\n",
       "      <td>0.110958</td>\n",
       "    </tr>\n",
       "    <tr>\n",
       "      <th>7</th>\n",
       "      <td>WEEKDAY</td>\n",
       "      <td>0.109274</td>\n",
       "    </tr>\n",
       "    <tr>\n",
       "      <th>...</th>\n",
       "      <td>...</td>\n",
       "      <td>...</td>\n",
       "    </tr>\n",
       "    <tr>\n",
       "      <th>90</th>\n",
       "      <td>BIRTH_1997.0</td>\n",
       "      <td>0.0</td>\n",
       "    </tr>\n",
       "    <tr>\n",
       "      <th>91</th>\n",
       "      <td>BIRTH_1998.0</td>\n",
       "      <td>0.0</td>\n",
       "    </tr>\n",
       "    <tr>\n",
       "      <th>92</th>\n",
       "      <td>BIRTH_1999.0</td>\n",
       "      <td>0.0</td>\n",
       "    </tr>\n",
       "    <tr>\n",
       "      <th>93</th>\n",
       "      <td>BIRTH_2000.0</td>\n",
       "      <td>0.0</td>\n",
       "    </tr>\n",
       "    <tr>\n",
       "      <th>220</th>\n",
       "      <td>HOUR_range_unknown</td>\n",
       "      <td>0.0</td>\n",
       "    </tr>\n",
       "  </tbody>\n",
       "</table>\n",
       "<p>221 rows × 2 columns</p>\n",
       "</div>"
      ],
      "text/plain": [
       "            column_name shap_importance\n",
       "25              RESRATE        3.044693\n",
       "5                   EFC         0.30016\n",
       "217       HOUR_range_오전        0.164079\n",
       "2                    IR        0.110958\n",
       "7               WEEKDAY        0.109274\n",
       "..                  ...             ...\n",
       "90         BIRTH_1997.0             0.0\n",
       "91         BIRTH_1998.0             0.0\n",
       "92         BIRTH_1999.0             0.0\n",
       "93         BIRTH_2000.0             0.0\n",
       "220  HOUR_range_unknown             0.0\n",
       "\n",
       "[221 rows x 2 columns]"
      ]
     },
     "execution_count": 64,
     "metadata": {},
     "output_type": "execute_result"
    }
   ],
   "source": [
    "# Method: Using SHAP values \n",
    "import shap\n",
    "from lightgbm import LGBMClassifier\n",
    "\n",
    "# DF, based on which importance is checked\n",
    "X_importance = X_train\n",
    "\n",
    "# Explain model predictions using shap library:\n",
    "model = LGBMClassifier(random_state=0).fit(X_train, y_train)\n",
    "explainer = shap.TreeExplainer(model)\n",
    "shap_values = explainer.shap_values(X_importance)\n",
    "\n",
    "# Plot summary_plot as barplot:\n",
    "shap.summary_plot(shap_values, X_importance, plot_type='bar')\n",
    "\n",
    "shap_sum = np.abs(shap_values).mean(axis=1)[1,:]\n",
    "importance_df = pd.DataFrame([X_importance.columns.tolist(), shap_sum.tolist()]).T\n",
    "importance_df.columns = ['column_name', 'shap_importance']\n",
    "importance_df = importance_df.sort_values('shap_importance', ascending=False)\n",
    "importance_df"
   ]
  },
  {
   "cell_type": "code",
   "execution_count": 65,
   "id": "ca5d9825",
   "metadata": {
    "colab": {
     "base_uri": "https://localhost:8080/"
    },
    "id": "50981d52",
    "outputId": "79c6ae2d-7e8c-452e-ab94-caf2fe2045b4"
   },
   "outputs": [
    {
     "name": "stdout",
     "output_type": "stream",
     "text": [
      "(1979651, 50)\n"
     ]
    }
   ],
   "source": [
    "# feature 중요도가 0 이상\n",
    "SHAP_THRESHOLD = 0\n",
    "features_selected = importance_df.query('shap_importance > @SHAP_THRESHOLD').column_name.tolist()\n",
    "train = X_train[features_selected]\n",
    "test =X_test[features_selected]\n",
    "print(train.shape)"
   ]
  },
  {
   "cell_type": "code",
   "execution_count": null,
   "id": "ed17fef1",
   "metadata": {},
   "outputs": [],
   "source": [
    "train.to_csv('train_data.csv', index = False)\n",
    "test.to_csv('test_data.csv', index = False)"
   ]
  }
 ],
 "metadata": {
  "accelerator": "GPU",
  "colab": {
   "collapsed_sections": [
    "cavZWk_Gtd-8",
    "dRn9KaMnm1Wl",
    "4_-0f_AhOjPp",
    "dc1626e4",
    "643f271f",
    "2e45107c",
    "1abe06c3",
    "WIsU6e1iKKLZ",
    "beeb5647",
    "5b3530f6",
    "ZGXdPy8NM-f1",
    "64f2c8b3",
    "EkkRKZRloUAL",
    "3mrsd2DDo8AB",
    "89fc780a",
    "1f686cf7",
    "pCeqYt2ePdoV",
    "mwZzHP82uKjJ"
   ],
   "machine_shape": "hm",
   "name": "머러 현재.ipynb",
   "provenance": []
  },
  "kernelspec": {
   "display_name": "Python 3 (ipykernel)",
   "language": "python",
   "name": "python3"
  },
  "language_info": {
   "codemirror_mode": {
    "name": "ipython",
    "version": 3
   },
   "file_extension": ".py",
   "mimetype": "text/x-python",
   "name": "python",
   "nbconvert_exporter": "python",
   "pygments_lexer": "ipython3",
   "version": "3.8.12"
  },
  "widgets": {
   "application/vnd.jupyter.widget-state+json": {
    "033db2cf4558491488dd14bf0a87a428": {
     "model_module": "@jupyter-widgets/controls",
     "model_module_version": "1.5.0",
     "model_name": "HBoxModel",
     "state": {
      "_dom_classes": [],
      "_model_module": "@jupyter-widgets/controls",
      "_model_module_version": "1.5.0",
      "_model_name": "HBoxModel",
      "_view_count": null,
      "_view_module": "@jupyter-widgets/controls",
      "_view_module_version": "1.5.0",
      "_view_name": "HBoxView",
      "box_style": "",
      "children": [
       "IPY_MODEL_5a49b1f31fb844fc960751c4a7704dde",
       "IPY_MODEL_7f26eefce41f488aa25dfcb53d5d96ee",
       "IPY_MODEL_baf33f5fb76044ddb0be355c0c9c272d"
      ],
      "layout": "IPY_MODEL_a57ef7a954844daf9d30534594035cf4"
     }
    },
    "240f47b4139d437699b46645e68bec61": {
     "model_module": "@jupyter-widgets/base",
     "model_module_version": "1.2.0",
     "model_name": "LayoutModel",
     "state": {
      "_model_module": "@jupyter-widgets/base",
      "_model_module_version": "1.2.0",
      "_model_name": "LayoutModel",
      "_view_count": null,
      "_view_module": "@jupyter-widgets/base",
      "_view_module_version": "1.2.0",
      "_view_name": "LayoutView",
      "align_content": null,
      "align_items": null,
      "align_self": null,
      "border": null,
      "bottom": null,
      "display": null,
      "flex": null,
      "flex_flow": null,
      "grid_area": null,
      "grid_auto_columns": null,
      "grid_auto_flow": null,
      "grid_auto_rows": null,
      "grid_column": null,
      "grid_gap": null,
      "grid_row": null,
      "grid_template_areas": null,
      "grid_template_columns": null,
      "grid_template_rows": null,
      "height": null,
      "justify_content": null,
      "justify_items": null,
      "left": null,
      "margin": null,
      "max_height": null,
      "max_width": null,
      "min_height": null,
      "min_width": null,
      "object_fit": null,
      "object_position": null,
      "order": null,
      "overflow": null,
      "overflow_x": null,
      "overflow_y": null,
      "padding": null,
      "right": null,
      "top": null,
      "visibility": null,
      "width": null
     }
    },
    "5a49b1f31fb844fc960751c4a7704dde": {
     "model_module": "@jupyter-widgets/controls",
     "model_module_version": "1.5.0",
     "model_name": "HTMLModel",
     "state": {
      "_dom_classes": [],
      "_model_module": "@jupyter-widgets/controls",
      "_model_module_version": "1.5.0",
      "_model_name": "HTMLModel",
      "_view_count": null,
      "_view_module": "@jupyter-widgets/controls",
      "_view_module_version": "1.5.0",
      "_view_name": "HTMLView",
      "description": "",
      "description_tooltip": null,
      "layout": "IPY_MODEL_240f47b4139d437699b46645e68bec61",
      "placeholder": "​",
      "style": "IPY_MODEL_6b772a1cdeae4f398291c5a18d3248ec",
      "value": "100%"
     }
    },
    "6b772a1cdeae4f398291c5a18d3248ec": {
     "model_module": "@jupyter-widgets/controls",
     "model_module_version": "1.5.0",
     "model_name": "DescriptionStyleModel",
     "state": {
      "_model_module": "@jupyter-widgets/controls",
      "_model_module_version": "1.5.0",
      "_model_name": "DescriptionStyleModel",
      "_view_count": null,
      "_view_module": "@jupyter-widgets/base",
      "_view_module_version": "1.2.0",
      "_view_name": "StyleView",
      "description_width": ""
     }
    },
    "7f26eefce41f488aa25dfcb53d5d96ee": {
     "model_module": "@jupyter-widgets/controls",
     "model_module_version": "1.5.0",
     "model_name": "FloatProgressModel",
     "state": {
      "_dom_classes": [],
      "_model_module": "@jupyter-widgets/controls",
      "_model_module_version": "1.5.0",
      "_model_name": "FloatProgressModel",
      "_view_count": null,
      "_view_module": "@jupyter-widgets/controls",
      "_view_module_version": "1.5.0",
      "_view_name": "ProgressView",
      "bar_style": "success",
      "description": "",
      "description_tooltip": null,
      "layout": "IPY_MODEL_e8aa1da1984248e191e829fb48b48426",
      "max": 3,
      "min": 0,
      "orientation": "horizontal",
      "style": "IPY_MODEL_dfcafd6d6e5341d2a5df61170166fa53",
      "value": 3
     }
    },
    "8be43fe998a34b77b96148602087583c": {
     "model_module": "@jupyter-widgets/base",
     "model_module_version": "1.2.0",
     "model_name": "LayoutModel",
     "state": {
      "_model_module": "@jupyter-widgets/base",
      "_model_module_version": "1.2.0",
      "_model_name": "LayoutModel",
      "_view_count": null,
      "_view_module": "@jupyter-widgets/base",
      "_view_module_version": "1.2.0",
      "_view_name": "LayoutView",
      "align_content": null,
      "align_items": null,
      "align_self": null,
      "border": null,
      "bottom": null,
      "display": null,
      "flex": null,
      "flex_flow": null,
      "grid_area": null,
      "grid_auto_columns": null,
      "grid_auto_flow": null,
      "grid_auto_rows": null,
      "grid_column": null,
      "grid_gap": null,
      "grid_row": null,
      "grid_template_areas": null,
      "grid_template_columns": null,
      "grid_template_rows": null,
      "height": null,
      "justify_content": null,
      "justify_items": null,
      "left": null,
      "margin": null,
      "max_height": null,
      "max_width": null,
      "min_height": null,
      "min_width": null,
      "object_fit": null,
      "object_position": null,
      "order": null,
      "overflow": null,
      "overflow_x": null,
      "overflow_y": null,
      "padding": null,
      "right": null,
      "top": null,
      "visibility": null,
      "width": null
     }
    },
    "90b08212fe904df9962584c419326100": {
     "model_module": "@jupyter-widgets/controls",
     "model_module_version": "1.5.0",
     "model_name": "DescriptionStyleModel",
     "state": {
      "_model_module": "@jupyter-widgets/controls",
      "_model_module_version": "1.5.0",
      "_model_name": "DescriptionStyleModel",
      "_view_count": null,
      "_view_module": "@jupyter-widgets/base",
      "_view_module_version": "1.2.0",
      "_view_name": "StyleView",
      "description_width": ""
     }
    },
    "a57ef7a954844daf9d30534594035cf4": {
     "model_module": "@jupyter-widgets/base",
     "model_module_version": "1.2.0",
     "model_name": "LayoutModel",
     "state": {
      "_model_module": "@jupyter-widgets/base",
      "_model_module_version": "1.2.0",
      "_model_name": "LayoutModel",
      "_view_count": null,
      "_view_module": "@jupyter-widgets/base",
      "_view_module_version": "1.2.0",
      "_view_name": "LayoutView",
      "align_content": null,
      "align_items": null,
      "align_self": null,
      "border": null,
      "bottom": null,
      "display": null,
      "flex": null,
      "flex_flow": null,
      "grid_area": null,
      "grid_auto_columns": null,
      "grid_auto_flow": null,
      "grid_auto_rows": null,
      "grid_column": null,
      "grid_gap": null,
      "grid_row": null,
      "grid_template_areas": null,
      "grid_template_columns": null,
      "grid_template_rows": null,
      "height": null,
      "justify_content": null,
      "justify_items": null,
      "left": null,
      "margin": null,
      "max_height": null,
      "max_width": null,
      "min_height": null,
      "min_width": null,
      "object_fit": null,
      "object_position": null,
      "order": null,
      "overflow": null,
      "overflow_x": null,
      "overflow_y": null,
      "padding": null,
      "right": null,
      "top": null,
      "visibility": null,
      "width": null
     }
    },
    "baf33f5fb76044ddb0be355c0c9c272d": {
     "model_module": "@jupyter-widgets/controls",
     "model_module_version": "1.5.0",
     "model_name": "HTMLModel",
     "state": {
      "_dom_classes": [],
      "_model_module": "@jupyter-widgets/controls",
      "_model_module_version": "1.5.0",
      "_model_name": "HTMLModel",
      "_view_count": null,
      "_view_module": "@jupyter-widgets/controls",
      "_view_module_version": "1.5.0",
      "_view_name": "HTMLView",
      "description": "",
      "description_tooltip": null,
      "layout": "IPY_MODEL_8be43fe998a34b77b96148602087583c",
      "placeholder": "​",
      "style": "IPY_MODEL_90b08212fe904df9962584c419326100",
      "value": " 3/3 [12:14&lt;00:00, 244.92s/it]"
     }
    },
    "dfcafd6d6e5341d2a5df61170166fa53": {
     "model_module": "@jupyter-widgets/controls",
     "model_module_version": "1.5.0",
     "model_name": "ProgressStyleModel",
     "state": {
      "_model_module": "@jupyter-widgets/controls",
      "_model_module_version": "1.5.0",
      "_model_name": "ProgressStyleModel",
      "_view_count": null,
      "_view_module": "@jupyter-widgets/base",
      "_view_module_version": "1.2.0",
      "_view_name": "StyleView",
      "bar_color": null,
      "description_width": ""
     }
    },
    "e8aa1da1984248e191e829fb48b48426": {
     "model_module": "@jupyter-widgets/base",
     "model_module_version": "1.2.0",
     "model_name": "LayoutModel",
     "state": {
      "_model_module": "@jupyter-widgets/base",
      "_model_module_version": "1.2.0",
      "_model_name": "LayoutModel",
      "_view_count": null,
      "_view_module": "@jupyter-widgets/base",
      "_view_module_version": "1.2.0",
      "_view_name": "LayoutView",
      "align_content": null,
      "align_items": null,
      "align_self": null,
      "border": null,
      "bottom": null,
      "display": null,
      "flex": null,
      "flex_flow": null,
      "grid_area": null,
      "grid_auto_columns": null,
      "grid_auto_flow": null,
      "grid_auto_rows": null,
      "grid_column": null,
      "grid_gap": null,
      "grid_row": null,
      "grid_template_areas": null,
      "grid_template_columns": null,
      "grid_template_rows": null,
      "height": null,
      "justify_content": null,
      "justify_items": null,
      "left": null,
      "margin": null,
      "max_height": null,
      "max_width": null,
      "min_height": null,
      "min_width": null,
      "object_fit": null,
      "object_position": null,
      "order": null,
      "overflow": null,
      "overflow_x": null,
      "overflow_y": null,
      "padding": null,
      "right": null,
      "top": null,
      "visibility": null,
      "width": null
     }
    }
   }
  }
 },
 "nbformat": 4,
 "nbformat_minor": 5
}
